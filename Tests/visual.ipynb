{
 "cells": [
  {
   "cell_type": "code",
   "execution_count": 1,
   "metadata": {},
   "outputs": [
    {
     "name": "stdout",
     "output_type": "stream",
     "text": [
      "Defaulting to user installation because normal site-packages is not writeable\n",
      "Requirement already satisfied: tkinterDnD2 in c:\\users\\jnyffeler\\appdata\\roaming\\python\\python311\\site-packages (0.4.2)\n",
      "Note: you may need to restart the kernel to use updated packages.\n"
     ]
    }
   ],
   "source": [
    "pip install tkinterDnD2\n"
   ]
  },
  {
   "cell_type": "code",
   "execution_count": 2,
   "metadata": {},
   "outputs": [
    {
     "name": "stderr",
     "output_type": "stream",
     "text": [
      "Fast image processor class <class 'transformers.models.vit.image_processing_vit_fast.ViTImageProcessorFast'> is available for this model. Using slow image processor class. To use the fast image processor class set `use_fast=True`.\n"
     ]
    }
   ],
   "source": [
    "from tkinterdnd2 import TkinterDnD, DND_FILES\n",
    "from transformers import pipeline\n",
    "import tkinter as tk\n",
    "from tkinter import ttk\n",
    "from PIL import Image, ImageTk\n",
    "\n",
    "def process_dropped_image(event):\n",
    "    # Get the dropped file path\n",
    "    file_path = event.data.strip()  # Strip any extra whitespace or newlines\n",
    "\n",
    "    try:\n",
    "        # Load and process the image\n",
    "        vision_classifier = pipeline(model=\"google/vit-base-patch16-224\")\n",
    "        preds = vision_classifier(images=file_path)\n",
    "        preds = [{\"score\": round(pred[\"score\"], 4), \"label\": pred[\"label\"]} for pred in preds]\n",
    "\n",
    "        # Update result label\n",
    "        result_label.config(text=str(preds))\n",
    "    except Exception as e:\n",
    "        result_label.config(text=f\"Error: {str(e)}\")\n",
    "\n",
    "# Create main window with drag-and-drop support\n",
    "root = TkinterDnD.Tk()  # Use TkinterDnD's specialized Tk class\n",
    "root.title(\"Image Classifier Drop Zone\")\n",
    "\n",
    "# Create drop zone\n",
    "drop_zone = ttk.Label(root, text=\"Drop your image here\", padding=50, relief=\"solid\")\n",
    "drop_zone.pack(padx=10, pady=10)\n",
    "\n",
    "# Bind drag-and-drop events\n",
    "drop_zone.drop_target_register(DND_FILES)\n",
    "drop_zone.dnd_bind('<<Drop>>', process_dropped_image)\n",
    "\n",
    "# Create result label\n",
    "result_label = ttk.Label(root, text=\"Results will appear here\")\n",
    "result_label.pack(padx=10, pady=10)\n",
    "\n",
    "root.mainloop()\n"
   ]
  },
  {
   "cell_type": "code",
   "execution_count": 3,
   "metadata": {},
   "outputs": [
    {
     "name": "stderr",
     "output_type": "stream",
     "text": [
      "Fast image processor class <class 'transformers.models.vit.image_processing_vit_fast.ViTImageProcessorFast'> is available for this model. Using slow image processor class. To use the fast image processor class set `use_fast=True`.\n"
     ]
    },
    {
     "data": {
      "text/plain": [
       "[{'score': 0.4714, 'label': 'jacamar'},\n",
       " {'score': 0.3055, 'label': 'brambling, Fringilla montifringilla'},\n",
       " {'score': 0.0367,\n",
       "  'label': 'indigo bunting, indigo finch, indigo bird, Passerina cyanea'},\n",
       " {'score': 0.0198, 'label': 'bulbul'},\n",
       " {'score': 0.0174, 'label': 'water ouzel, dipper'}]"
      ]
     },
     "execution_count": 3,
     "metadata": {},
     "output_type": "execute_result"
    }
   ],
   "source": [
    "from transformers import pipeline\n",
    "\n",
    "vision_classifier = pipeline(model=\"google/vit-base-patch16-224\")\n",
    "preds = vision_classifier(\n",
    "    images=\"data:image/jpeg;base64,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\"\n",
    ")\n",
    "preds = [{\"score\": round(pred[\"score\"], 4), \"label\": pred[\"label\"]} for pred in preds]\n",
    "preds"
   ]
  },
  {
   "cell_type": "code",
   "execution_count": 5,
   "metadata": {},
   "outputs": [
    {
     "data": {
      "text/plain": [
       "[{'score': 0.9828, 'label': 'normal'}, {'score': 0.0181, 'label': 'nsfw'}]"
      ]
     },
     "execution_count": 5,
     "metadata": {},
     "output_type": "execute_result"
    }
   ],
   "source": [
    "from transformers import pipeline\n",
    "\n",
    "vision_classifier = pipeline(model=\"Falconsai/nsfw_image_detection\")\n",
    "preds = vision_classifier(\n",
    "    images=\"data:image/jpeg;base64,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\"\n",
    ")\n",
    "preds = [{\"score\": round(pred[\"score\"], 4), \"label\": pred[\"label\"]} for pred in preds]\n",
    "preds"
   ]
  },
  {
   "cell_type": "code",
   "execution_count": 7,
   "metadata": {},
   "outputs": [
    {
     "ename": "UnidentifiedImageError",
     "evalue": "cannot identify image file <_io.BytesIO object at 0x0000014B41F03F10>",
     "output_type": "error",
     "traceback": [
      "\u001b[1;31m---------------------------------------------------------------------------\u001b[0m",
      "\u001b[1;31mUnidentifiedImageError\u001b[0m                    Traceback (most recent call last)",
      "Cell \u001b[1;32mIn[7], line 4\u001b[0m\n\u001b[0;32m      1\u001b[0m \u001b[38;5;28;01mfrom\u001b[39;00m \u001b[38;5;21;01mtransformers\u001b[39;00m \u001b[38;5;28;01mimport\u001b[39;00m pipeline\n\u001b[0;32m      3\u001b[0m vision_classifier \u001b[38;5;241m=\u001b[39m pipeline(model\u001b[38;5;241m=\u001b[39m\u001b[38;5;124m\"\u001b[39m\u001b[38;5;124mFalconsai/nsfw_image_detection\u001b[39m\u001b[38;5;124m\"\u001b[39m)\n\u001b[1;32m----> 4\u001b[0m preds \u001b[38;5;241m=\u001b[39m \u001b[43mvision_classifier\u001b[49m\u001b[43m(\u001b[49m\n\u001b[0;32m      5\u001b[0m \u001b[43m    \u001b[49m\u001b[43mimages\u001b[49m\u001b[38;5;241;43m=\u001b[39;49m\u001b[38;5;124;43m\"\u001b[39;49m\u001b[38;5;124;43mhttps://www.next.ie/en/women\u001b[39;49m\u001b[38;5;124;43m\"\u001b[39;49m\n\u001b[0;32m      6\u001b[0m \u001b[43m)\u001b[49m\n\u001b[0;32m      7\u001b[0m preds \u001b[38;5;241m=\u001b[39m [{\u001b[38;5;124m\"\u001b[39m\u001b[38;5;124mscore\u001b[39m\u001b[38;5;124m\"\u001b[39m: \u001b[38;5;28mround\u001b[39m(pred[\u001b[38;5;124m\"\u001b[39m\u001b[38;5;124mscore\u001b[39m\u001b[38;5;124m\"\u001b[39m], \u001b[38;5;241m4\u001b[39m), \u001b[38;5;124m\"\u001b[39m\u001b[38;5;124mlabel\u001b[39m\u001b[38;5;124m\"\u001b[39m: pred[\u001b[38;5;124m\"\u001b[39m\u001b[38;5;124mlabel\u001b[39m\u001b[38;5;124m\"\u001b[39m]} \u001b[38;5;28;01mfor\u001b[39;00m pred \u001b[38;5;129;01min\u001b[39;00m preds]\n\u001b[0;32m      8\u001b[0m preds\n",
      "File \u001b[1;32m~\\AppData\\Roaming\\Python\\Python311\\site-packages\\transformers\\pipelines\\image_classification.py:159\u001b[0m, in \u001b[0;36mImageClassificationPipeline.__call__\u001b[1;34m(self, images, **kwargs)\u001b[0m\n\u001b[0;32m    112\u001b[0m \u001b[38;5;28;01mdef\u001b[39;00m \u001b[38;5;21m__call__\u001b[39m(\u001b[38;5;28mself\u001b[39m, images: Union[\u001b[38;5;28mstr\u001b[39m, List[\u001b[38;5;28mstr\u001b[39m], \u001b[38;5;124m\"\u001b[39m\u001b[38;5;124mImage.Image\u001b[39m\u001b[38;5;124m\"\u001b[39m, List[\u001b[38;5;124m\"\u001b[39m\u001b[38;5;124mImage.Image\u001b[39m\u001b[38;5;124m\"\u001b[39m]], \u001b[38;5;241m*\u001b[39m\u001b[38;5;241m*\u001b[39mkwargs):\n\u001b[0;32m    113\u001b[0m \u001b[38;5;250m    \u001b[39m\u001b[38;5;124;03m\"\"\"\u001b[39;00m\n\u001b[0;32m    114\u001b[0m \u001b[38;5;124;03m    Assign labels to the image(s) passed as inputs.\u001b[39;00m\n\u001b[0;32m    115\u001b[0m \n\u001b[1;32m   (...)\u001b[0m\n\u001b[0;32m    157\u001b[0m \u001b[38;5;124;03m        - **score** (`int`) -- The score attributed by the model for that label.\u001b[39;00m\n\u001b[0;32m    158\u001b[0m \u001b[38;5;124;03m    \"\"\"\u001b[39;00m\n\u001b[1;32m--> 159\u001b[0m     \u001b[38;5;28;01mreturn\u001b[39;00m \u001b[38;5;28;43msuper\u001b[39;49m\u001b[43m(\u001b[49m\u001b[43m)\u001b[49m\u001b[38;5;241;43m.\u001b[39;49m\u001b[38;5;21;43m__call__\u001b[39;49m\u001b[43m(\u001b[49m\u001b[43mimages\u001b[49m\u001b[43m,\u001b[49m\u001b[43m \u001b[49m\u001b[38;5;241;43m*\u001b[39;49m\u001b[38;5;241;43m*\u001b[39;49m\u001b[43mkwargs\u001b[49m\u001b[43m)\u001b[49m\n",
      "File \u001b[1;32m~\\AppData\\Roaming\\Python\\Python311\\site-packages\\transformers\\pipelines\\base.py:1257\u001b[0m, in \u001b[0;36mPipeline.__call__\u001b[1;34m(self, inputs, num_workers, batch_size, *args, **kwargs)\u001b[0m\n\u001b[0;32m   1249\u001b[0m     \u001b[38;5;28;01mreturn\u001b[39;00m \u001b[38;5;28mnext\u001b[39m(\n\u001b[0;32m   1250\u001b[0m         \u001b[38;5;28miter\u001b[39m(\n\u001b[0;32m   1251\u001b[0m             \u001b[38;5;28mself\u001b[39m\u001b[38;5;241m.\u001b[39mget_iterator(\n\u001b[1;32m   (...)\u001b[0m\n\u001b[0;32m   1254\u001b[0m         )\n\u001b[0;32m   1255\u001b[0m     )\n\u001b[0;32m   1256\u001b[0m \u001b[38;5;28;01melse\u001b[39;00m:\n\u001b[1;32m-> 1257\u001b[0m     \u001b[38;5;28;01mreturn\u001b[39;00m \u001b[38;5;28;43mself\u001b[39;49m\u001b[38;5;241;43m.\u001b[39;49m\u001b[43mrun_single\u001b[49m\u001b[43m(\u001b[49m\u001b[43minputs\u001b[49m\u001b[43m,\u001b[49m\u001b[43m \u001b[49m\u001b[43mpreprocess_params\u001b[49m\u001b[43m,\u001b[49m\u001b[43m \u001b[49m\u001b[43mforward_params\u001b[49m\u001b[43m,\u001b[49m\u001b[43m \u001b[49m\u001b[43mpostprocess_params\u001b[49m\u001b[43m)\u001b[49m\n",
      "File \u001b[1;32m~\\AppData\\Roaming\\Python\\Python311\\site-packages\\transformers\\pipelines\\base.py:1263\u001b[0m, in \u001b[0;36mPipeline.run_single\u001b[1;34m(self, inputs, preprocess_params, forward_params, postprocess_params)\u001b[0m\n\u001b[0;32m   1262\u001b[0m \u001b[38;5;28;01mdef\u001b[39;00m \u001b[38;5;21mrun_single\u001b[39m(\u001b[38;5;28mself\u001b[39m, inputs, preprocess_params, forward_params, postprocess_params):\n\u001b[1;32m-> 1263\u001b[0m     model_inputs \u001b[38;5;241m=\u001b[39m \u001b[38;5;28;43mself\u001b[39;49m\u001b[38;5;241;43m.\u001b[39;49m\u001b[43mpreprocess\u001b[49m\u001b[43m(\u001b[49m\u001b[43minputs\u001b[49m\u001b[43m,\u001b[49m\u001b[43m \u001b[49m\u001b[38;5;241;43m*\u001b[39;49m\u001b[38;5;241;43m*\u001b[39;49m\u001b[43mpreprocess_params\u001b[49m\u001b[43m)\u001b[49m\n\u001b[0;32m   1264\u001b[0m     model_outputs \u001b[38;5;241m=\u001b[39m \u001b[38;5;28mself\u001b[39m\u001b[38;5;241m.\u001b[39mforward(model_inputs, \u001b[38;5;241m*\u001b[39m\u001b[38;5;241m*\u001b[39mforward_params)\n\u001b[0;32m   1265\u001b[0m     outputs \u001b[38;5;241m=\u001b[39m \u001b[38;5;28mself\u001b[39m\u001b[38;5;241m.\u001b[39mpostprocess(model_outputs, \u001b[38;5;241m*\u001b[39m\u001b[38;5;241m*\u001b[39mpostprocess_params)\n",
      "File \u001b[1;32m~\\AppData\\Roaming\\Python\\Python311\\site-packages\\transformers\\pipelines\\image_classification.py:162\u001b[0m, in \u001b[0;36mImageClassificationPipeline.preprocess\u001b[1;34m(self, image, timeout)\u001b[0m\n\u001b[0;32m    161\u001b[0m \u001b[38;5;28;01mdef\u001b[39;00m \u001b[38;5;21mpreprocess\u001b[39m(\u001b[38;5;28mself\u001b[39m, image, timeout\u001b[38;5;241m=\u001b[39m\u001b[38;5;28;01mNone\u001b[39;00m):\n\u001b[1;32m--> 162\u001b[0m     image \u001b[38;5;241m=\u001b[39m \u001b[43mload_image\u001b[49m\u001b[43m(\u001b[49m\u001b[43mimage\u001b[49m\u001b[43m,\u001b[49m\u001b[43m \u001b[49m\u001b[43mtimeout\u001b[49m\u001b[38;5;241;43m=\u001b[39;49m\u001b[43mtimeout\u001b[49m\u001b[43m)\u001b[49m\n\u001b[0;32m    163\u001b[0m     model_inputs \u001b[38;5;241m=\u001b[39m \u001b[38;5;28mself\u001b[39m\u001b[38;5;241m.\u001b[39mimage_processor(images\u001b[38;5;241m=\u001b[39mimage, return_tensors\u001b[38;5;241m=\u001b[39m\u001b[38;5;28mself\u001b[39m\u001b[38;5;241m.\u001b[39mframework)\n\u001b[0;32m    164\u001b[0m     \u001b[38;5;28;01mif\u001b[39;00m \u001b[38;5;28mself\u001b[39m\u001b[38;5;241m.\u001b[39mframework \u001b[38;5;241m==\u001b[39m \u001b[38;5;124m\"\u001b[39m\u001b[38;5;124mpt\u001b[39m\u001b[38;5;124m\"\u001b[39m:\n",
      "File \u001b[1;32m~\\AppData\\Roaming\\Python\\Python311\\site-packages\\transformers\\image_utils.py:362\u001b[0m, in \u001b[0;36mload_image\u001b[1;34m(image, timeout)\u001b[0m\n\u001b[0;32m    358\u001b[0m \u001b[38;5;28;01mif\u001b[39;00m \u001b[38;5;28misinstance\u001b[39m(image, \u001b[38;5;28mstr\u001b[39m):\n\u001b[0;32m    359\u001b[0m     \u001b[38;5;28;01mif\u001b[39;00m image\u001b[38;5;241m.\u001b[39mstartswith(\u001b[38;5;124m\"\u001b[39m\u001b[38;5;124mhttp://\u001b[39m\u001b[38;5;124m\"\u001b[39m) \u001b[38;5;129;01mor\u001b[39;00m image\u001b[38;5;241m.\u001b[39mstartswith(\u001b[38;5;124m\"\u001b[39m\u001b[38;5;124mhttps://\u001b[39m\u001b[38;5;124m\"\u001b[39m):\n\u001b[0;32m    360\u001b[0m         \u001b[38;5;66;03m# We need to actually check for a real protocol, otherwise it's impossible to use a local file\u001b[39;00m\n\u001b[0;32m    361\u001b[0m         \u001b[38;5;66;03m# like http_huggingface_co.png\u001b[39;00m\n\u001b[1;32m--> 362\u001b[0m         image \u001b[38;5;241m=\u001b[39m \u001b[43mPIL\u001b[49m\u001b[38;5;241;43m.\u001b[39;49m\u001b[43mImage\u001b[49m\u001b[38;5;241;43m.\u001b[39;49m\u001b[43mopen\u001b[49m\u001b[43m(\u001b[49m\u001b[43mBytesIO\u001b[49m\u001b[43m(\u001b[49m\u001b[43mrequests\u001b[49m\u001b[38;5;241;43m.\u001b[39;49m\u001b[43mget\u001b[49m\u001b[43m(\u001b[49m\u001b[43mimage\u001b[49m\u001b[43m,\u001b[49m\u001b[43m \u001b[49m\u001b[43mtimeout\u001b[49m\u001b[38;5;241;43m=\u001b[39;49m\u001b[43mtimeout\u001b[49m\u001b[43m)\u001b[49m\u001b[38;5;241;43m.\u001b[39;49m\u001b[43mcontent\u001b[49m\u001b[43m)\u001b[49m\u001b[43m)\u001b[49m\n\u001b[0;32m    363\u001b[0m     \u001b[38;5;28;01melif\u001b[39;00m os\u001b[38;5;241m.\u001b[39mpath\u001b[38;5;241m.\u001b[39misfile(image):\n\u001b[0;32m    364\u001b[0m         image \u001b[38;5;241m=\u001b[39m PIL\u001b[38;5;241m.\u001b[39mImage\u001b[38;5;241m.\u001b[39mopen(image)\n",
      "File \u001b[1;32m~\\AppData\\Roaming\\Python\\Python311\\site-packages\\PIL\\Image.py:3498\u001b[0m, in \u001b[0;36mopen\u001b[1;34m(fp, mode, formats)\u001b[0m\n\u001b[0;32m   3496\u001b[0m     warnings\u001b[38;5;241m.\u001b[39mwarn(message)\n\u001b[0;32m   3497\u001b[0m msg \u001b[38;5;241m=\u001b[39m \u001b[38;5;124m\"\u001b[39m\u001b[38;5;124mcannot identify image file \u001b[39m\u001b[38;5;132;01m%r\u001b[39;00m\u001b[38;5;124m\"\u001b[39m \u001b[38;5;241m%\u001b[39m (filename \u001b[38;5;28;01mif\u001b[39;00m filename \u001b[38;5;28;01melse\u001b[39;00m fp)\n\u001b[1;32m-> 3498\u001b[0m \u001b[38;5;28;01mraise\u001b[39;00m UnidentifiedImageError(msg)\n",
      "\u001b[1;31mUnidentifiedImageError\u001b[0m: cannot identify image file <_io.BytesIO object at 0x0000014B41F03F10>"
     ]
    }
   ],
   "source": [
    "from transformers import pipeline\n",
    "\n",
    "vision_classifier = pipeline(model=\"Falconsai/nsfw_image_detection\")\n",
    "preds = vision_classifier(\n",
    "    images=\"https://www.next.ie/en/women\"\n",
    ")\n",
    "preds = [{\"score\": round(pred[\"score\"], 4), \"label\": pred[\"label\"]} for pred in preds]\n",
    "preds"
   ]
  }
 ],
 "metadata": {
  "kernelspec": {
   "display_name": "HF-Transformer-Pytorch",
   "language": "python",
   "name": "python3"
  },
  "language_info": {
   "codemirror_mode": {
    "name": "ipython",
    "version": 3
   },
   "file_extension": ".py",
   "mimetype": "text/x-python",
   "name": "python",
   "nbconvert_exporter": "python",
   "pygments_lexer": "ipython3",
   "version": "3.11.9"
  }
 },
 "nbformat": 4,
 "nbformat_minor": 2
}
